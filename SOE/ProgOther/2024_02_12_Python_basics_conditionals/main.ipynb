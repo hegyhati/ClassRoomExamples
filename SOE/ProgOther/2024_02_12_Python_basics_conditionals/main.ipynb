{
 "cells": [
  {
   "cell_type": "markdown",
   "metadata": {},
   "source": [
    "# Bevezető\n",
    "\n",
    "A félév során a [Python](https://www.python.org/) programozási nyelvvel szerzünk tapasztalatokat, első sorban olyan céllal, hogy adatelemzésre, és mindennapos automatizálási célokra hasznosítani tudjuk. \n",
    "\n",
    "## Segédanyagok\n",
    "\n",
    "Rengeteg forrás érhető el, gyors kereséssel ki-ki megtalálja a magának szimpatikusat. Néhány példa:\n",
    " - [W3Schools](https://www.w3schools.com/python/)\n",
    " - [Official reference](https://docs.python.org/3/)\n",
    " - [Real Python](https://realpython.com/)\n",
    " - youtube videókból pedig Dunát lehet rekeszteni\n",
    "  \n",
    "## Környezet\n",
    "\n",
    "Python kódot 3 formában fogunk írni a félév során:\n",
    " - [Jupyter](https://jupyter.org/) notebookokban\n",
    " - `.py` kiterjesztésű fájlokban\n",
    " - [Python REPL](https://docs.python.org/3/tutorial/interpreter.html) (Read-Eval-Print Loop) módban\n",
    "\n",
    "### REPL\n",
    "\n",
    "Terminálból a `python` vagy `python3` parancs kiadásával érhető el. A REPL módban soronként kiadhatók a parancsok, amik azonnal kiértékelődnek.\n",
    "\n",
    "### Jupyter\n",
    "\n",
    "A Jupyter notebookok (mint ez) python kódok és markdown szövegek keverékét tartalmazzák, amelyekben a kódrészletek interaktívan végrehajthatók. Az ilyen fájlok kiterjesztése `.ipynb`. A Jupyter notebookokat a nevet adó [Jupyter](https://jupyter.org/) szoftveren kívül más környezetben is van lehetőség használni, online pélául a [Google Colab](https://colab.research.google.com/)-ban, mi pedig [Visual Studio Code](https://code.visualstudio.com/) környezetben fogjuk használni.\n",
    "\n",
    "### `.py` fájlok\n",
    "\n",
    "Fejlesztőkörnyezetnek itt is a [Visual Studio Code](https://code.visualstudio.com/)-ot használjuk, de ízlés szerint választható másik is, pélául [PyCharm](https://www.jetbrains.com/pycharm/), [Sublime Text](https://www.sublimetext.com/), [Notepad++](https://notepad-plus-plus.org/), vagy a kihívást keresőknek [Vim](https://www.vim.org/), [Emacs](https://www.gnu.org/software/emacs/)."
   ]
  },
  {
   "cell_type": "markdown",
   "metadata": {},
   "source": [
    "# Alapok\n",
    "\n",
    "Tradícionálisan a programozás első lépése a \"Hello, World!\" program írása. Ezt a Pythonban a következőképpen tehetjük meg a `print` \"utasítással\" (függvény).\n"
   ]
  },
  {
   "cell_type": "code",
   "execution_count": 1,
   "metadata": {},
   "outputs": [
    {
     "name": "stdout",
     "output_type": "stream",
     "text": [
      "Hello, World!\n"
     ]
    }
   ],
   "source": [
    "print(\"Hello, World!\")"
   ]
  },
  {
   "cell_type": "markdown",
   "metadata": {},
   "source": [
    "A következő, hogy bekérünk a felhasználó nevét, és személyre szabottan köszöntjük. Ehhez már kelleni fog beolvasáshoz az `input` függvény, a megadott név eltárolása egy változóban, kiiratásnál pedig szövegek összefűzése a `+` operátorral. Az input függvény argumentuma (a zárójelben) a felhasználó számára megjelenítendő szöveg, amit macskakörmök vagy aposztrófok közé kell tenni.\n",
    "\n"
   ]
  },
  {
   "cell_type": "code",
   "execution_count": 2,
   "metadata": {},
   "outputs": [
    {
     "name": "stdout",
     "output_type": "stream",
     "text": [
      "Szia Laci!\n"
     ]
    }
   ],
   "source": [
    "name = input(\"Hogy hívnak? \")\n",
    "print(\"Szia \" + name + \"!\")"
   ]
  },
  {
   "cell_type": "markdown",
   "metadata": {},
   "source": [
    "Ha életkor alapján italt is szeretnénk javasolni, ezután megkérdezhetjük, hány éves az illető. Itt fontos, hogy az input függvény visszatérési értéke mindig szöveg, így ha számokkal szeretnénk dolgozni, konvertálnunk kell őket. Ezt a `int` függvénnyel tehetjük meg, amit a számot tartalmazó szöveg argumentumaként hívunk meg. Ha a felhasználó nem számot ad meg, de ilyen hibákkal most még nem foglalkozunk. 18 évesnél idősebb felhasználónak sört, 18 évesnél fiatalabbaknak üdítőt ajánlunk, a 3 évesnél fiatalabbaknak pedig tejet. Ezt az elágazást az `if`, `elif`, `else` szerkezettel tehetjük meg, figyeljünk a behúzásokra, mert a Pythonban azok jelentik a blokkokat."
   ]
  },
  {
   "cell_type": "code",
   "execution_count": 5,
   "metadata": {},
   "outputs": [
    {
     "name": "stdout",
     "output_type": "stream",
     "text": [
      "🍼\n"
     ]
    }
   ],
   "source": [
    "age = int(input(\"Hány éves vagy? \"))\n",
    "if age >= 18:\n",
    "    print(\"🍺\")\n",
    "elif age >= 6:\n",
    "    print(\"🥤\")\n",
    "else:\n",
    "    print(\"🍼\")"
   ]
  }
 ],
 "metadata": {
  "kernelspec": {
   "display_name": "Python 3",
   "language": "python",
   "name": "python3"
  },
  "language_info": {
   "codemirror_mode": {
    "name": "ipython",
    "version": 3
   },
   "file_extension": ".py",
   "mimetype": "text/x-python",
   "name": "python",
   "nbconvert_exporter": "python",
   "pygments_lexer": "ipython3",
   "version": "3.11.4"
  }
 },
 "nbformat": 4,
 "nbformat_minor": 2
}
