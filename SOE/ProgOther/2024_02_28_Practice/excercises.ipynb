{
 "cells": [
  {
   "cell_type": "markdown",
   "metadata": {},
   "source": [
    "# 3. gyakorlat\n",
    "\n",
    "A feladatokon egyesevel menj vegig. Vagy itt oldd meg oket, vagy mindegyiknek hozz letre egy kulon fajlt, amibe atmasolod a megadott kodreszletet."
   ]
  },
  {
   "cell_type": "markdown",
   "metadata": {},
   "source": [
    "## 1. feladat: hangszer viccek\n",
    "\n",
    "Kerd be, milyen hangszeren jatszik a felhasznalo. Ha az a valasz, hogy `semmin`, akkor ird ki, hogy `nagy kar`. Ha valami hangszer ir ki, akkor irj ki egy viccet arrol a hangszerrol. Eleg 2-3 hangszert kezelni, a tobbire csak irja ki a program, hogy `meh`. \n",
    "\n",
    "Pelda:\n",
    "```\n",
    "Milyen hangszeren jatszol? semmin\n",
    "nagy kar\n",
    "```\n",
    "vagy:\n",
    "``` \n",
    "Milyen hangszeren jatszol? bracsan\n",
    "Mi a kulonbseg bracsanal az elso es utolso pult kozott? -- Korulbelul egy felhang.\n",
    "```\n"
   ]
  },
  {
   "cell_type": "code",
   "execution_count": null,
   "metadata": {},
   "outputs": [],
   "source": [
    "# Kerd be a hangszert egy valtozoba:\n",
    "\n",
    "# Csinalj elagazas es kiiratast a valasz alapjan:"
   ]
  },
  {
   "cell_type": "markdown",
   "metadata": {},
   "source": [
    "## 2. feladat: kar\n",
    "\n",
    "Kerd be a felhasznalotol, hogy melyik karon van. Ha hibas valaszt ad meg, akkor ird ki, hogy `Nem is a SOE-re jarsz!`. \n",
    "Elsore csak mukodjon a program, masodjara oldd meg ugy, hogy csak egyetlen `if`-et hasznalsz (`elif`-ek nelkul).\n"
   ]
  },
  {
   "cell_type": "code",
   "execution_count": null,
   "metadata": {},
   "outputs": [],
   "source": []
  },
  {
   "cell_type": "markdown",
   "metadata": {},
   "source": [
    "## 3. feladat: egyetem  \n",
    "Hasonlit az elozohoz, csak az egyetem roviditeset kerje be, es reklamaljon, ha nem jot ad meg a felhasznalo. Kezeljen legalabb 15 egyetemet.\n",
    "Otlet: erdemes listat hasznalni, es a `in` operatort."
   ]
  },
  {
   "cell_type": "code",
   "execution_count": null,
   "metadata": {},
   "outputs": [],
   "source": []
  },
  {
   "cell_type": "markdown",
   "metadata": {},
   "source": [
    "## 4. feladat: jo egyetem\n",
    "Az elozodt modositsd ugy, hogy addig kerdezgesse a felhasznalot, amig jo valaszt nem kap."
   ]
  },
  {
   "cell_type": "code",
   "execution_count": null,
   "metadata": {},
   "outputs": [],
   "source": []
  },
  {
   "cell_type": "markdown",
   "metadata": {},
   "source": [
    "## 5. feladat: nevek\n",
    "Vidd fel egy listaba a gyakorlaton resztvevo emberek nevet. (Kodba fixen beleirva, ne kerdezd be a felhasznalotol.)\n",
    "Ezek utan ird ki azokat a neveket, amikben **nem** szerepelnek ekezetes karakterek, csak az angol abc betui."
   ]
  },
  {
   "cell_type": "code",
   "execution_count": 1,
   "metadata": {},
   "outputs": [],
   "source": [
    "nevek = [ \"Hegyháti Máté\" , ... ]"
   ]
  },
  {
   "cell_type": "markdown",
   "metadata": {},
   "source": [
    "## 6. feladat: ekezetmentesites\n",
    "Kerj be egy szoveget magyarul, es ird ki ugyanazt a szoveget, de ekezetek nelkul.\n",
    "Segitseg: hasznalhatod a `replace` metodust."
   ]
  },
  {
   "cell_type": "code",
   "execution_count": null,
   "metadata": {},
   "outputs": [],
   "source": []
  },
  {
   "cell_type": "markdown",
   "metadata": {},
   "source": [
    "## 7. feladat: Turistajelzesek\n",
    "[Magyarorszagon a turistajelzeseknek van egy szine es egy tipusa/formaja/kodja.](https://hu.wikipedia.org/wiki/Turistajelz%C3%A9sek_Magyarorsz%C3%A1gon)\n",
    "Irj egy programot, ami kiirja mind a 4 x 8 lehetseges jelzest.\n",
    "\n",
    "A kimenet ilyen legyen:\n",
    "```\n",
    "K- K+ K□ KO ...\n",
    "P- P+ ...\n",
    "...\n",
    "``` \n"
   ]
  },
  {
   "cell_type": "code",
   "execution_count": null,
   "metadata": {},
   "outputs": [],
   "source": []
  },
  {
   "cell_type": "markdown",
   "metadata": {},
   "source": [
    "## 8. feladat: Collatz sejtes\n",
    "\n",
    "Egy [nyitott sejtes](https://en.wikipedia.org/wiki/Collatz_conjecture) matematikaban, hogyha elindulunk egy szambol, majd az alabbi szabaly szerint szamoljuk ki a kovetkezo szamot, mindig eljutunk-e 1-hez. A szabaly: ha a szam paros, elosztjuk kettovel, ha paratlan, akkor megszorozzuk 3-mal, es hozzaadunk 1-et.\n",
    "\n",
    "Irj egy olyan programot, ami beker egy szamot, majd kiirja a kovetkezo szamot addig, amig 1-hez nem er.\n",
    "\n",
    "Peldafutas:\n",
    "```\n",
    "Add meg a kezdoszamot: 13\n",
    "13\n",
    "40\n",
    "20\n",
    "10\n",
    "5\n",
    "16\n",
    "8\n",
    "4\n",
    "2\n",
    "1\n",
    "```\n",
    "vagy:\n",
    "```\n",
    "Add meg a kezdoszamot: 7\n",
    "7\n",
    "22\n",
    "11\n",
    "34\n",
    "17\n",
    "52\n",
    "26\n",
    "13\n",
    "40\n",
    "20\n",
    "10\n",
    "5\n",
    "16\n",
    "8\n",
    "4\n",
    "2\n",
    "1\n",
    "```\n",
    "\n"
   ]
  }
 ],
 "metadata": {
  "kernelspec": {
   "display_name": "Python 3",
   "language": "python",
   "name": "python3"
  },
  "language_info": {
   "codemirror_mode": {
    "name": "ipython",
    "version": 3
   },
   "file_extension": ".py",
   "mimetype": "text/x-python",
   "name": "python",
   "nbconvert_exporter": "python",
   "pygments_lexer": "ipython3",
   "version": "3.11.4"
  }
 },
 "nbformat": 4,
 "nbformat_minor": 2
}
