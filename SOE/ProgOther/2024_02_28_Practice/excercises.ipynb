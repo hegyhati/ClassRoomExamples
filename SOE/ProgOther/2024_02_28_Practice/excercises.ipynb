{
 "cells": [
  {
   "cell_type": "markdown",
   "metadata": {},
   "source": [
    "# 3. gyakorlat\n",
    "\n",
    "A feladatokon egyesevel menj vegig. Vagy itt oldd meg oket, vagy mindegyiknek hozz letre egy kulon fajlt, amibe atmasolod a megadott kodreszletet."
   ]
  },
  {
   "cell_type": "markdown",
   "metadata": {},
   "source": [
    "## 1. feladat: hangszer viccek\n",
    "\n",
    "Kerd be, milyen hangszeren jatszik a felhasznalo. Ha az a valasz, hogy `semmin`, akkor ird ki, hogy `nagy kar`. Ha valamilyen hangszert ir be, akkor irj ki egy viccet arrol a hangszerrol. Eleg 2-3 hangszert kezelni, a tobbire csak irja ki a program, hogy `meh`. \n",
    "\n",
    "Pelda:\n",
    "```\n",
    "Milyen hangszeren jatszol? semmin\n",
    "nagy kar\n",
    "```\n",
    "vagy:\n",
    "``` \n",
    "Milyen hangszeren jatszol? bracsan\n",
    "Mi a kulonbseg bracsanal az elso es utolso pult kozott? -- Korulbelul egy felhang.\n",
    "```\n"
   ]
  },
  {
   "cell_type": "code",
   "execution_count": 13,
   "metadata": {},
   "outputs": [
    {
     "name": "stdout",
     "output_type": "stream",
     "text": [
      "What is the difference between a drummer and a savings bond? -- One will mature and make money.\n"
     ]
    }
   ],
   "source": [
    "# Kerd be a hangszert egy valtozoba:\n",
    "\n",
    "hangszer = input(\"Melyik hangszeren jatszol? \")\n",
    "\n",
    "# Csinalj elagazas es kiiratast a valasz alapjan:\n",
    "\n",
    "if hangszer == \"semmin\":\n",
    "    print(\"Nagy kar.\")\n",
    "elif hangszer == \"bracsa\":\n",
    "    print(\"Mi a kulonbseg bracsanal az elso es utolso pult kozott? -- Korulbelul egy felhang.\")    \n",
    "elif hangszer == \"dob\":\n",
    "    print(\"What is the difference between a drummer and a savings bond? -- One will mature and make money.\")\n",
    "elif hangszer == \"basszusgitar\":\n",
    "    print(\"What do you call a bass player that only knows two chords? -- A professional.\")\n",
    "else:\n",
    "    print(\"meh\")\n",
    "\n"
   ]
  },
  {
   "cell_type": "markdown",
   "metadata": {},
   "source": [
    "## 2. feladat: kar\n",
    "\n",
    "Kerd be a felhasznalotol, hogy melyik karon van. Ha hibas valaszt ad meg, akkor ird ki, hogy `Nem is a SOE-re jarsz!`. \n",
    "Elsore csak mukodjon a program, masodjara oldd meg ugy, hogy csak egyetlen `if`-et hasznalsz (`elif`-ek nelkul).\n"
   ]
  },
  {
   "cell_type": "code",
   "execution_count": 16,
   "metadata": {},
   "outputs": [
    {
     "name": "stdout",
     "output_type": "stream",
     "text": [
      "Nem is a SOE-re jarsz!\n"
     ]
    }
   ],
   "source": [
    "kar = input(\"Melyik karon tanulsz? \")\n",
    "if kar == \"EMK\":\n",
    "    pass\n",
    "elif kar == \"FMK\":\n",
    "    pass\n",
    "elif kar == \"LKK\":\n",
    "    pass\n",
    "elif kar == \"BPK\":\n",
    "    pass\n",
    "else:\n",
    "    print(\"Nem is a SOE-re jarsz!\")"
   ]
  },
  {
   "cell_type": "code",
   "execution_count": 18,
   "metadata": {},
   "outputs": [
    {
     "name": "stdout",
     "output_type": "stream",
     "text": [
      "Nem is a SOE-re jarsz!\n"
     ]
    }
   ],
   "source": [
    "kar = input(\"Melyik karon tanulsz? \")\n",
    "if kar == \"EMK\" or kar == \"FMK\" or kar == \"LKK\" or kar == \"BPK\":\n",
    "    pass\n",
    "else:\n",
    "    print(\"Nem is a SOE-re jarsz!\")"
   ]
  },
  {
   "cell_type": "code",
   "execution_count": 19,
   "metadata": {},
   "outputs": [],
   "source": [
    "kar = input(\"Melyik karon tanulsz? \")\n",
    "if kar != \"EMK\" and kar != \"FMK\" and kar != \"LKK\" and kar != \"BPK\":\n",
    "    print(\"Nem is a SOE-re jarsz!\")\n",
    "else:\n",
    "    pass"
   ]
  },
  {
   "cell_type": "markdown",
   "metadata": {},
   "source": [
    "## 3. feladat: egyetem  \n",
    "Hasonlit az elozohoz, csak az egyetem roviditeset kerje be, es reklamaljon, ha nem jot ad meg a felhasznalo. Kezeljen legalabb 15 egyetemet.\n",
    "Otlet: erdemes listat hasznalni, es a `in` operatort."
   ]
  },
  {
   "cell_type": "code",
   "execution_count": null,
   "metadata": {},
   "outputs": [],
   "source": [
    "egyetem = input(\"Melyik egyetemre jarsz? \")\n",
    "if egyetem != \"SOE\" and egyetem != \"SZE\" and egyetem != \"PE\" and egyetem != \"ELTE\":\n",
    "    print(\"Nem is jarsz egyetemre.\")"
   ]
  },
  {
   "cell_type": "code",
   "execution_count": 24,
   "metadata": {},
   "outputs": [
    {
     "name": "stdout",
     "output_type": "stream",
     "text": [
      "Te tenyleg egyetemre jarsz.\n"
     ]
    }
   ],
   "source": [
    "egyetemek = [ \"SOE\" , \"SZE\", \"PE\", \"SZTE\", \"ELTE\", \"BME\", \"SOTE\", \"PTE\", \"DE\", \"ME\", \"OE\"]\n",
    "egyetem = input(\"Melyik egyetemre jarsz? \")\n",
    "if egyetem not in egyetemek:\n",
    "    print(\"Nem is jarsz egyetemre.\")\n",
    "else:\n",
    "    print(\"Te tenyleg egyetemre jarsz.\")"
   ]
  },
  {
   "cell_type": "markdown",
   "metadata": {},
   "source": [
    "## 4. feladat: jo egyetem\n",
    "Az elozot modositsd ugy, hogy addig kerdezgesse a felhasznalot, amig jo valaszt nem kap."
   ]
  },
  {
   "cell_type": "code",
   "execution_count": 27,
   "metadata": {},
   "outputs": [
    {
     "name": "stdout",
     "output_type": "stream",
     "text": [
      "Nem jo egyetem nev!\n",
      "Nem jo egyetem nev!\n",
      "Nem jo egyetem nev!\n",
      "Nem jo egyetem nev!\n",
      "Nem jo egyetem nev!\n",
      "Na, ez mar OK\n"
     ]
    }
   ],
   "source": [
    "egyetemek = [ \"SOE\" , \"SZE\", \"PE\", \"SZTE\", \"ELTE\", \"BME\", \"SOTE\", \"PTE\", \"DE\", \"ME\", \"OE\"]\n",
    "egyetem = input(\"Melyik egyetemre jarsz? \")\n",
    "if egyetem in egyetemek:\n",
    "    print(\"OK\")\n",
    "else:\n",
    "    while egyetem not in egyetemek:\n",
    "        print(\"Nem jo egyetem nev!\")\n",
    "        egyetem = input(\"Melyik egyetemre jarsz? \")\n",
    "    print(\"Na, ez mar OK\")\n"
   ]
  },
  {
   "cell_type": "code",
   "execution_count": 28,
   "metadata": {},
   "outputs": [
    {
     "name": "stdout",
     "output_type": "stream",
     "text": [
      "OK\n"
     ]
    }
   ],
   "source": [
    "egyetemek = [ \"SOE\" , \"SZE\", \"PE\", \"SZTE\", \"ELTE\", \"BME\", \"SOTE\", \"PTE\", \"DE\", \"ME\", \"OE\"]\n",
    "egyetem = None\n",
    "\n",
    "while egyetem not in egyetemek:\n",
    "    egyetem = input(\"Melyik egyetemre jarsz? \")\n",
    "    \n",
    "print(\"OK\")"
   ]
  },
  {
   "cell_type": "code",
   "execution_count": 29,
   "metadata": {},
   "outputs": [
    {
     "name": "stdout",
     "output_type": "stream",
     "text": [
      "Nem jo egyetem nev.\n",
      "Nem jo egyetem nev.\n",
      "OK\n"
     ]
    }
   ],
   "source": [
    "egyetemek = [ \"SOE\" , \"SZE\", \"PE\", \"SZTE\", \"ELTE\", \"BME\", \"SOTE\", \"PTE\", \"DE\", \"ME\", \"OE\"]\n",
    "\n",
    "while True:\n",
    "    egyetem = input(\"Melyik egyetemre jarsz? \")\n",
    "    if egyetem in egyetemek:\n",
    "        break\n",
    "    else:\n",
    "        print(\"Nem jo egyetem nev.\")\n",
    "    \n",
    "print(\"OK\")"
   ]
  },
  {
   "cell_type": "markdown",
   "metadata": {},
   "source": [
    "## 5. feladat: nevek\n",
    "Vidd fel egy listaba a gyakorlaton resztvevo emberek nevet. (Kodba fixen beleirva, ne kerdezd be a felhasznalotol.)\n",
    "Ezek utan ird ki azokat a neveket, amikben **nem** szerepelnek ekezetes karakterek, csak az angol abc betui."
   ]
  },
  {
   "cell_type": "code",
   "execution_count": 34,
   "metadata": {},
   "outputs": [
    {
     "name": "stdout",
     "output_type": "stream",
     "text": [
      "Van benne á\n"
     ]
    }
   ],
   "source": [
    "nev = input()\n",
    "if \"á\" in nev.lower(): \n",
    "    print(\"Van benne á\")\n",
    "else:\n",
    "    print(\"Nincs benne á\")\n"
   ]
  },
  {
   "cell_type": "code",
   "execution_count": 36,
   "metadata": {},
   "outputs": [
    {
     "name": "stdout",
     "output_type": "stream",
     "text": [
      "Nincs benne ekezetes\n"
     ]
    }
   ],
   "source": [
    "nev = input()\n",
    "if \"á\" in nev.lower(): \n",
    "    print(\"Van benne ekezetes\")\n",
    "elif \"é\" in nev.lower():\n",
    "    print(\"Van benne ekezetes\")\n",
    "elif \"ö\" in nev.lower():\n",
    "    print(\"Van benne ekezetes\")\n",
    "elif \"ü\" in nev.lower():\n",
    "    print(\"Van benne ekezetes\")\n",
    "elif \"ó\" in nev.lower():\n",
    "    print(\"Van benne ekezetes\")\n",
    "elif \"ő\" in nev.lower():\n",
    "    print(\"Van benne ekezetes\")\n",
    "elif \"ú\" in nev.lower():\n",
    "    print(\"Van benne ekezetes\")\n",
    "elif \"ű\" in nev.lower():\n",
    "    print(\"Van benne ekezetes\")\n",
    "elif \"í\" in nev.lower():\n",
    "    print(\"Van benne ekezetes\")\n",
    "else:\n",
    "    print(\"Nincs benne ekezetes\")\n"
   ]
  },
  {
   "cell_type": "code",
   "execution_count": null,
   "metadata": {},
   "outputs": [],
   "source": [
    "nev = input()\n",
    "if \"á\" in nev.lower() or \"é\" in nev.lower() or \"ö\" in nev.lower() or \"ü\" in nev.lower() or \"ó\" in nev.lower() or  \"ő\" in nev.lower() or \"ú\" in nev.lower() or \"ű\" in nev.lower() or \"í\" in nev.lower():\n",
    "    print(\"Van benne ekezetes\")\n",
    "else:\n",
    "    print(\"Nincs benne ekezetes\")"
   ]
  },
  {
   "cell_type": "code",
   "execution_count": 43,
   "metadata": {},
   "outputs": [
    {
     "name": "stdout",
     "output_type": "stream",
     "text": [
      "Van benne ekezetes\n"
     ]
    }
   ],
   "source": [
    "ekezetes = [ \"ö\" , \"ü\", \"ó\", \"ő\", \"ú\", \"é\", \"á\", \"ű\", \"í\"]\n",
    "nev = input()\n",
    "\n",
    "vanbenne = False\n",
    "for betu in ekezetes:\n",
    "    if betu in nev.lower():\n",
    "        vanbenne = True\n",
    "\n",
    "if vanbenne:\n",
    "    print(\"Van benne ekezetes\")\n",
    "else:\n",
    "    print(\"Nincs benne ekezetes\")"
   ]
  },
  {
   "cell_type": "code",
   "execution_count": 46,
   "metadata": {},
   "outputs": [
    {
     "name": "stdout",
     "output_type": "stream",
     "text": [
      "Klaudia\n",
      "Luca\n"
     ]
    }
   ],
   "source": [
    "nevek = [ \"Máté\" , \"Péter\", \"Gábor\", \"Ábel\", \"Klaudia\", \"Ádám\", \"Luca\" ]\n",
    "\n",
    "for nev in nevek:\n",
    "    vanbenne = False\n",
    "    for betu in ekezetes:\n",
    "        if betu in nev.lower():\n",
    "            vanbenne = True\n",
    "\n",
    "    if not vanbenne:\n",
    "        print(nev)\n"
   ]
  },
  {
   "cell_type": "markdown",
   "metadata": {},
   "source": [
    "## 6. feladat: ekezetmentesites\n",
    "Kerj be egy szoveget magyarul, es ird ki ugyanazt a szoveget, de ekezetek nelkul.\n",
    "Segitseg: hasznalhatod a `replace` metodust."
   ]
  },
  {
   "cell_type": "code",
   "execution_count": 50,
   "metadata": {},
   "outputs": [
    {
     "name": "stdout",
     "output_type": "stream",
     "text": [
      "Állomas\n"
     ]
    }
   ],
   "source": [
    "szoveg = input()\n",
    "\n",
    "szoveg = szoveg.replace(\"ö\", \"o\")\n",
    "szoveg = szoveg.replace(\"ó\", \"o\")\n",
    "szoveg = szoveg.replace(\"ő\", \"o\")\n",
    "szoveg = szoveg.replace(\"ú\", \"u\")\n",
    "szoveg = szoveg.replace(\"ü\", \"u\")\n",
    "szoveg = szoveg.replace(\"ű\", \"u\")\n",
    "szoveg = szoveg.replace(\"é\", \"e\")\n",
    "szoveg = szoveg.replace(\"á\", \"a\")\n",
    "szoveg = szoveg.replace(\"í\", \"i\")\n",
    "\n",
    "print(szoveg)"
   ]
  },
  {
   "cell_type": "code",
   "execution_count": 52,
   "metadata": {},
   "outputs": [
    {
     "name": "stdout",
     "output_type": "stream",
     "text": [
      "Allomas\n"
     ]
    }
   ],
   "source": [
    "cserek = {\n",
    "    \"ö\": \"o\",\n",
    "    \"ó\": \"o\",\n",
    "    \"ő\": \"o\",\n",
    "    \"ú\": \"u\",\n",
    "    \"ü\": \"u\",\n",
    "    \"ű\": \"u\",\n",
    "    \"é\": \"e\",\n",
    "    \"á\": \"a\",\n",
    "    \"í\": \"i\",\n",
    "    \"Ö\": \"O\",\n",
    "    \"Ó\": \"O\",\n",
    "    \"Ő\": \"O\",\n",
    "    \"Ú\": \"U\",\n",
    "    \"Ü\": \"U\",\n",
    "    \"Ű\": \"U\",\n",
    "    \"É\": \"E\",\n",
    "    \"Á\": \"A\",\n",
    "    \"Í\": \"I\"\n",
    "}\n",
    "szoveg = input()\n",
    "\n",
    "for cserelendo in cserek:\n",
    "    szoveg = szoveg.replace(cserelendo, cserek[cserelendo])\n",
    "\n",
    "print(szoveg)"
   ]
  },
  {
   "cell_type": "code",
   "execution_count": 53,
   "metadata": {},
   "outputs": [
    {
     "name": "stdout",
     "output_type": "stream",
     "text": [
      "Allomas\n"
     ]
    }
   ],
   "source": [
    "cserek = {\n",
    "    \"ö\": \"o\",\n",
    "    \"ó\": \"o\",\n",
    "    \"ő\": \"o\",\n",
    "    \"ú\": \"u\",\n",
    "    \"ü\": \"u\",\n",
    "    \"ű\": \"u\",\n",
    "    \"é\": \"e\",\n",
    "    \"á\": \"a\",\n",
    "    \"í\": \"i\"\n",
    "}\n",
    "szoveg = input()\n",
    "\n",
    "for cserelendo in cserek:\n",
    "    szoveg = szoveg.replace(cserelendo, cserek[cserelendo])\n",
    "    szoveg = szoveg.replace(cserelendo.upper(), cserek[cserelendo].upper())\n",
    "\n",
    "print(szoveg)"
   ]
  },
  {
   "cell_type": "code",
   "execution_count": 54,
   "metadata": {},
   "outputs": [
    {
     "name": "stdout",
     "output_type": "stream",
     "text": [
      "Allomas\n"
     ]
    }
   ],
   "source": [
    "cserek = {\n",
    "    \"ö\": \"o\",\n",
    "    \"ó\": \"o\",\n",
    "    \"ő\": \"o\",\n",
    "    \"ú\": \"u\",\n",
    "    \"ü\": \"u\",\n",
    "    \"ű\": \"u\",\n",
    "    \"é\": \"e\",\n",
    "    \"á\": \"a\",\n",
    "    \"í\": \"i\"\n",
    "}\n",
    "szoveg = input()\n",
    "\n",
    "for mit,mire in cserek.items():\n",
    "    szoveg = szoveg.replace(mit, mire)\n",
    "    szoveg = szoveg.replace(mit.upper(), mire.upper())\n",
    "\n",
    "print(szoveg)"
   ]
  },
  {
   "cell_type": "markdown",
   "metadata": {},
   "source": [
    "## 7. feladat: Turistajelzesek\n",
    "[Magyarorszagon a turistajelzeseknek van egy szine es egy tipusa/formaja/kodja.](https://hu.wikipedia.org/wiki/Turistajelz%C3%A9sek_Magyarorsz%C3%A1gon)\n",
    "Irj egy programot, ami kiirja mind a 4 x 8 lehetseges jelzest.\n",
    "\n",
    "A kimenet ilyen legyen:\n",
    "```\n",
    "K- K+ K□ KO ...\n",
    "P- P+ ...\n",
    "...\n",
    "``` \n"
   ]
  },
  {
   "cell_type": "code",
   "execution_count": 55,
   "metadata": {},
   "outputs": [
    {
     "name": "stdout",
     "output_type": "stream",
     "text": [
      "K- K+ K● K■ K▲ KΩ KL\n",
      "P- P+ P● P■ P▲ PΩ PL\n",
      "S- S+ S● S■ S▲ SΩ SL\n",
      "Z- Z+ Z● Z■ Z▲ ZΩ ZL\n"
     ]
    }
   ],
   "source": [
    "print(\"K- K+ K● K■ K▲ KΩ KL\")\n",
    "print(\"P- P+ P● P■ P▲ PΩ PL\")\n",
    "print(\"S- S+ S● S■ S▲ SΩ SL\")\n",
    "print(\"Z- Z+ Z● Z■ Z▲ ZΩ ZL\")"
   ]
  },
  {
   "cell_type": "code",
   "execution_count": 56,
   "metadata": {},
   "outputs": [
    {
     "name": "stdout",
     "output_type": "stream",
     "text": [
      "K- K+ K● K■ K▲ KΩ KL\n",
      "P- P+ P● P■ P▲ PΩ PL\n",
      "S- S+ S● S■ S▲ SΩ SL\n",
      "Z- Z+ Z● Z■ Z▲ ZΩ ZL\n"
     ]
    }
   ],
   "source": [
    "szinek = [\"K\", \"P\", \"S\", \"Z\"]\n",
    "for szin in szinek:\n",
    "    print(f\"{szin}- {szin}+ {szin}● {szin}■ {szin}▲ {szin}Ω {szin}L\")"
   ]
  },
  {
   "cell_type": "code",
   "execution_count": 58,
   "metadata": {},
   "outputs": [
    {
     "name": "stdout",
     "output_type": "stream",
     "text": [
      "K- K+ K● K■ K▲ KΩ KL P- P+ P● P■ P▲ PΩ PL S- S+ S● S■ S▲ SΩ SL Z- Z+ Z● Z■ Z▲ ZΩ ZL "
     ]
    }
   ],
   "source": [
    "szinek = [\"K\", \"P\", \"S\", \"Z\"]\n",
    "formak = [\"-\", \"+\",  \"●\",  \"■\", \"▲\", \"Ω\", \"L\"]\n",
    "for szin in szinek:\n",
    "    for forma in formak:\n",
    "        print(f\"{szin}{forma}\", end=\" \")"
   ]
  },
  {
   "cell_type": "markdown",
   "metadata": {},
   "source": [
    "## 8. feladat: Collatz sejtes\n",
    "\n",
    "Egy [nyitott sejtes](https://en.wikipedia.org/wiki/Collatz_conjecture) matematikaban, hogyha elindulunk egy szambol, majd az alabbi szabaly szerint szamoljuk ki a kovetkezo szamot, mindig eljutunk-e 1-hez. A szabaly: ha a szam paros, elosztjuk kettovel, ha paratlan, akkor megszorozzuk 3-mal, es hozzaadunk 1-et.\n",
    "\n",
    "Irj egy olyan programot, ami beker egy szamot, majd kiirja a kovetkezo szamot addig, amig 1-hez nem er.\n",
    "\n",
    "Peldafutas:\n",
    "```\n",
    "Add meg a kezdoszamot: 13\n",
    "13\n",
    "40\n",
    "20\n",
    "10\n",
    "5\n",
    "16\n",
    "8\n",
    "4\n",
    "2\n",
    "1\n",
    "```\n",
    "vagy:\n",
    "```\n",
    "Add meg a kezdoszamot: 7\n",
    "7\n",
    "22\n",
    "11\n",
    "34\n",
    "17\n",
    "52\n",
    "26\n",
    "13\n",
    "40\n",
    "20\n",
    "10\n",
    "5\n",
    "16\n",
    "8\n",
    "4\n",
    "2\n",
    "1\n",
    "```\n",
    "\n"
   ]
  },
  {
   "cell_type": "code",
   "execution_count": 69,
   "metadata": {},
   "outputs": [
    {
     "name": "stdout",
     "output_type": "stream",
     "text": [
      "23\n",
      "70\n",
      "35\n",
      "106\n",
      "53\n",
      "160\n",
      "80\n",
      "40\n",
      "20\n",
      "10\n",
      "5\n",
      "16\n",
      "8\n",
      "4\n",
      "2\n",
      "1\n"
     ]
    }
   ],
   "source": [
    "szam = int(input(\"Kezdes: \"))\n",
    "\n",
    "while szam != 1:\n",
    "    print(szam)\n",
    "    if szam % 2 == 0:\n",
    "        szam //= 2\n",
    "    else:\n",
    "        szam = szam * 3 + 1\n",
    "print(1)"
   ]
  }
 ],
 "metadata": {
  "kernelspec": {
   "display_name": "Python 3",
   "language": "python",
   "name": "python3"
  },
  "language_info": {
   "codemirror_mode": {
    "name": "ipython",
    "version": 3
   },
   "file_extension": ".py",
   "mimetype": "text/x-python",
   "name": "python",
   "nbconvert_exporter": "python",
   "pygments_lexer": "ipython3",
   "version": "3.11.4"
  }
 },
 "nbformat": 4,
 "nbformat_minor": 2
}
