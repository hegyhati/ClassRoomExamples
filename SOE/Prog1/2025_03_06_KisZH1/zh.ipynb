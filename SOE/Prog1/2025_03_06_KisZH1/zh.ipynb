{
 "cells": [
  {
   "cell_type": "markdown",
   "metadata": {},
   "source": [
    "# Programozas 1 - KisZH1\n",
    "2025.03.06.\n",
    "\n",
    "Hibat adnak-e az alabbi programok, ha nem, mi a kimenet?\n"
   ]
  },
  {
   "cell_type": "code",
   "execution_count": 7,
   "metadata": {},
   "outputs": [
    {
     "name": "stdout",
     "output_type": "stream",
     "text": [
      "43333\n"
     ]
    }
   ],
   "source": [
    "s = \"3\" * 4 + \"4\" * 3\n",
    "s.lower()\n",
    "print(s[4::-1])"
   ]
  },
  {
   "cell_type": "code",
   "execution_count": 8,
   "metadata": {},
   "outputs": [
    {
     "name": "stdout",
     "output_type": "stream",
     "text": [
      "2\n",
      "3\n",
      "a\n",
      "alma\n"
     ]
    }
   ],
   "source": [
    "l = [ [1,2], [2,3], [3,4], [5,6]]\n",
    "l[2] = \"alma\"\n",
    "l[3].append(\"alma\")\n",
    "for foo in l:\n",
    "    print(foo[-1])"
   ]
  },
  {
   "cell_type": "code",
   "execution_count": 5,
   "metadata": {},
   "outputs": [
    {
     "name": "stdout",
     "output_type": "stream",
     "text": [
      "2222\n"
     ]
    }
   ],
   "source": [
    "print(\"1,2,III,negy,⑤\".split(\",\")[1]*4)"
   ]
  },
  {
   "cell_type": "code",
   "execution_count": 6,
   "metadata": {},
   "outputs": [
    {
     "name": "stdout",
     "output_type": "stream",
     "text": [
      "2 12\n",
      "2 9\n",
      "NananaNanana Batman\n"
     ]
    }
   ],
   "source": [
    "def foo(a=1,b=2,c=3,d=\"1\"):\n",
    "    print(a*b,c*d)\n",
    "\n",
    "foo(1,2,3,4)\n",
    "foo(d=3)\n",
    "foo(c=\"Batman\",a=\"Nanana\",d=1)"
   ]
  },
  {
   "cell_type": "code",
   "execution_count": 2,
   "metadata": {},
   "outputs": [
    {
     "name": "stdout",
     "output_type": "stream",
     "text": [
      "[11, 12, 13, 44]\n"
     ]
    }
   ],
   "source": [
    "def bar(l):\n",
    "    l.append(44)\n",
    "    l = l[::2]\n",
    "    l.append(55)\n",
    "\n",
    "l = [11,12,13]\n",
    "bar(l)\n",
    "print(l)        "
   ]
  }
 ],
 "metadata": {
  "kernelspec": {
   "display_name": "Python 3",
   "language": "python",
   "name": "python3"
  },
  "language_info": {
   "codemirror_mode": {
    "name": "ipython",
    "version": 3
   },
   "file_extension": ".py",
   "mimetype": "text/x-python",
   "name": "python",
   "nbconvert_exporter": "python",
   "pygments_lexer": "ipython3",
   "version": "3.11.4"
  }
 },
 "nbformat": 4,
 "nbformat_minor": 2
}
