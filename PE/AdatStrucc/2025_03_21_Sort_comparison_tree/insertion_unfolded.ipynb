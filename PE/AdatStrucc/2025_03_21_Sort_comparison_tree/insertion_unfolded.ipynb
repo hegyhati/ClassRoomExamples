{
 "cells": [
  {
   "cell_type": "markdown",
   "metadata": {},
   "source": [
    "### Original code"
   ]
  },
  {
   "cell_type": "code",
   "execution_count": null,
   "metadata": {},
   "outputs": [],
   "source": [
    "def insertion_sort(numbers:list[int]):\n",
    "    for idx in range(1,len(numbers)):\n",
    "        current = numbers[idx]\n",
    "        idx2 = idx-1\n",
    "        while(True):\n",
    "            if idx2 == -1 or numbers[idx2] < current:\n",
    "                numbers[idx2+1] = current\n",
    "                break\n",
    "            else:\n",
    "                numbers[idx2+1] = numbers[idx2]\n",
    "                idx2 -= 1"
   ]
  },
  {
   "cell_type": "markdown",
   "metadata": {},
   "source": [
    "\"Instanciate\" the function for a list of length 3"
   ]
  },
  {
   "cell_type": "code",
   "execution_count": null,
   "metadata": {},
   "outputs": [],
   "source": [
    "def insertion_sort_len3(numbers:list[int]):\n",
    "    for idx in range(1,3): # len is 3\n",
    "        current = numbers[idx]\n",
    "        idx2 = idx-1\n",
    "        while(True):\n",
    "            if idx2 == -1 or numbers[idx2] < current:\n",
    "                numbers[idx2+1] = current\n",
    "                break\n",
    "            else:\n",
    "                numbers[idx2+1] = numbers[idx2]\n",
    "                idx2 -= 1"
   ]
  },
  {
   "cell_type": "markdown",
   "metadata": {},
   "source": [
    "\"Unfold\" the outer loop"
   ]
  },
  {
   "cell_type": "code",
   "execution_count": null,
   "metadata": {},
   "outputs": [],
   "source": [
    "def insertion_sort_len3(numbers:list[int]):\n",
    "    idx = 1 # first iteration\n",
    "    current = numbers[idx]\n",
    "    idx2 = idx-1\n",
    "    while(True):\n",
    "        if idx2 == -1 or numbers[idx2] < current:\n",
    "            numbers[idx2+1] = current\n",
    "            break\n",
    "        else:\n",
    "            numbers[idx2+1] = numbers[idx2]\n",
    "            idx2 -= 1    \n",
    "    idx = 2 # second iteration\n",
    "    current = numbers[idx]\n",
    "    idx2 = idx-1\n",
    "    while(True):\n",
    "        if idx2 == -1 or numbers[idx2] < current:\n",
    "            numbers[idx2+1] = current\n",
    "            break\n",
    "        else:\n",
    "            numbers[idx2+1] = numbers[idx2]\n",
    "            idx2 -= 1"
   ]
  },
  {
   "cell_type": "markdown",
   "metadata": {},
   "source": [
    "Remove `idx` variable with its value"
   ]
  },
  {
   "cell_type": "code",
   "execution_count": null,
   "metadata": {},
   "outputs": [],
   "source": [
    "def insertion_sort_len3(numbers:list[int]):\n",
    "    # idx = 1\n",
    "    current = numbers[1]\n",
    "    idx2 = 0\n",
    "    while(True):\n",
    "        if idx2 == -1 or numbers[idx2] < current:\n",
    "            numbers[idx2+1] = current\n",
    "            break\n",
    "        else:\n",
    "            numbers[idx2+1] = numbers[idx2]\n",
    "            idx2 -= 1    \n",
    "    # idx = 2 \n",
    "    current = numbers[2]\n",
    "    idx2 = 1\n",
    "    while(True):\n",
    "        if idx2 == -1 or numbers[idx2] < current:\n",
    "            numbers[idx2+1] = current\n",
    "            break\n",
    "        else:\n",
    "            numbers[idx2+1] = numbers[idx2]\n",
    "            idx2 -= 1"
   ]
  },
  {
   "cell_type": "markdown",
   "metadata": {},
   "source": [
    "\"Unfold\" first while, break becomes \"GOTO\""
   ]
  },
  {
   "cell_type": "code",
   "execution_count": null,
   "metadata": {},
   "outputs": [],
   "source": [
    "def insertion_sort_len3(numbers:list[int]):\n",
    "    # idx = 1\n",
    "    current = numbers[1]\n",
    "    idx2 = 0\n",
    "    # idx2 = 0\n",
    "    if idx2 == -1 or numbers[idx2] < current:\n",
    "        numbers[idx2+1] = current\n",
    "        GOTO # idx = 2\n",
    "    else:\n",
    "        numbers[idx2+1] = numbers[idx2]\n",
    "        idx2 -= 1 \n",
    "        # idx2 = -1\n",
    "        if idx2 == -1 or numbers[idx2] < current:\n",
    "            numbers[idx2+1] = current\n",
    "            GOTO # idx = 2\n",
    "        else:\n",
    "            numbers[idx2+1] = numbers[idx2]\n",
    "            idx2 -= 1   \n",
    "    \n",
    "\n",
    "    # idx = 2 \n",
    "    current = numbers[2]\n",
    "    idx2 = 1\n",
    "    while(True):\n",
    "        if idx2 == -1 or numbers[idx2] < current:\n",
    "            numbers[idx2+1] = current\n",
    "            break\n",
    "        else:\n",
    "            numbers[idx2+1] = numbers[idx2]\n",
    "            idx2 -= 1"
   ]
  },
  {
   "cell_type": "markdown",
   "metadata": {},
   "source": [
    "Replace `idx2` with its value"
   ]
  },
  {
   "cell_type": "code",
   "execution_count": null,
   "metadata": {},
   "outputs": [],
   "source": [
    "def insertion_sort_len3(numbers:list[int]):\n",
    "    # idx = 1\n",
    "    current = numbers[1]\n",
    "    # idx2 = 0\n",
    "    if 0 == -1 or numbers[0] < current:\n",
    "        numbers[1] = current\n",
    "        GOTO # idx = 2\n",
    "    else:\n",
    "        numbers[1] = numbers[0]\n",
    "        # idx2 = -1\n",
    "        if -1 == -1 or numbers[-1] < current:\n",
    "            numbers[0] = current\n",
    "            GOTO # idx = 2\n",
    "        else:\n",
    "            numbers[0] = numbers[-1]    \n",
    "\n",
    "    # idx = 2 \n",
    "    current = numbers[2]\n",
    "    idx2 = 1\n",
    "    while(True):\n",
    "        if idx2 == -1 or numbers[idx2] < current:\n",
    "            numbers[idx2+1] = current\n",
    "            break\n",
    "        else:\n",
    "            numbers[idx2+1] = numbers[idx2]\n",
    "            idx2 -= 1"
   ]
  },
  {
   "cell_type": "markdown",
   "metadata": {},
   "source": [
    "Remove unnecessary `if`s "
   ]
  },
  {
   "cell_type": "code",
   "execution_count": null,
   "metadata": {},
   "outputs": [],
   "source": [
    "def insertion_sort_len3(numbers:list[int]):\n",
    "    # idx = 1\n",
    "    current = numbers[1]\n",
    "    # idx2 = 0\n",
    "    if numbers[0] < current:\n",
    "        numbers[1] = current\n",
    "        GOTO # idx = 2\n",
    "    else:\n",
    "        numbers[1] = numbers[0]\n",
    "        # idx2 = -1\n",
    "        numbers[0] = current\n",
    "        GOTO # idx = 2 \n",
    "\n",
    "    # idx = 2 \n",
    "    current = numbers[2]\n",
    "    idx2 = 1\n",
    "    while(True):\n",
    "        if idx2 == -1 or numbers[idx2] < current:\n",
    "            numbers[idx2+1] = current\n",
    "            break\n",
    "        else:\n",
    "            numbers[idx2+1] = numbers[idx2]\n",
    "            idx2 -= 1"
   ]
  },
  {
   "cell_type": "markdown",
   "metadata": {},
   "source": [
    "Repeat the same for the second loop:"
   ]
  },
  {
   "cell_type": "code",
   "execution_count": null,
   "metadata": {},
   "outputs": [],
   "source": [
    "def insertion_sort_len3(numbers:list[int]):\n",
    "    # idx = 1\n",
    "    current = numbers[1]\n",
    "    # idx2 = 0\n",
    "    if numbers[0] < current:\n",
    "        numbers[1] = current\n",
    "        GOTO # idx = 2\n",
    "    else:\n",
    "        numbers[1] = numbers[0]\n",
    "        # idx2 = -1\n",
    "        numbers[0] = current\n",
    "        GOTO # idx = 2 \n",
    "\n",
    "    # idx = 2 \n",
    "    current = numbers[2]\n",
    "    idx2 = 1\n",
    "    # idx2 = 1\n",
    "    if idx2 == -1 or numbers[idx2] < current:\n",
    "        numbers[idx2+1] = current\n",
    "        break\n",
    "    else:\n",
    "        numbers[idx2+1] = numbers[idx2]\n",
    "        idx2 -= 1\n",
    "        # idx2 = 0\n",
    "        if idx2 == -1 or numbers[idx2] < current:\n",
    "            numbers[idx2+1] = current\n",
    "            break\n",
    "        else:\n",
    "            numbers[idx2+1] = numbers[idx2]\n",
    "            idx2 -= 1\n",
    "            # idx2 = -1\n",
    "            if idx2 == -1 or numbers[idx2] < current:\n",
    "                numbers[idx2+1] = current\n",
    "                break\n",
    "            else:\n",
    "                numbers[idx2+1] = numbers[idx2]\n",
    "                idx2 -= 1"
   ]
  },
  {
   "cell_type": "markdown",
   "metadata": {},
   "source": [
    "As before, remove `idx2` values, unnecessary `if`s, and `break` here means end of code, so deleted:"
   ]
  },
  {
   "cell_type": "code",
   "execution_count": null,
   "metadata": {},
   "outputs": [],
   "source": [
    "def insertion_sort_len3(numbers:list[int]):\n",
    "    # idx = 1\n",
    "    current = numbers[1]\n",
    "    # idx2 = 0\n",
    "    if numbers[0] < current:\n",
    "        numbers[1] = current\n",
    "        GOTO # idx = 2\n",
    "    else:\n",
    "        numbers[1] = numbers[0]\n",
    "        # idx2 = -1\n",
    "        numbers[0] = current\n",
    "        GOTO # idx = 2 \n",
    "\n",
    "    # idx = 2 \n",
    "    current = numbers[2]\n",
    "    # idx2 = 1\n",
    "    if numbers[1] < current:\n",
    "        numbers[2] = current\n",
    "    else:\n",
    "        numbers[2] = numbers[1]\n",
    "        # idx2 = 0\n",
    "        if numbers[0] < current:\n",
    "            numbers[1] = current\n",
    "        else:\n",
    "            numbers[1] = numbers[0]\n",
    "            # idx2 = -1\n",
    "            numbers[0] = current"
   ]
  },
  {
   "cell_type": "markdown",
   "metadata": {},
   "source": [
    "`GOTO` just means copy code there."
   ]
  },
  {
   "cell_type": "code",
   "execution_count": null,
   "metadata": {},
   "outputs": [],
   "source": [
    "def insertion_sort_len3(numbers:list[int]):\n",
    "    # idx = 1\n",
    "    current = numbers[1]\n",
    "    # idx2 = 0\n",
    "    if numbers[0] < current:\n",
    "        numbers[1] = current\n",
    "        # idx = 2 \n",
    "        current = numbers[2]\n",
    "        # idx2 = 1\n",
    "        if numbers[1] < current:\n",
    "            numbers[2] = current\n",
    "        else:\n",
    "            numbers[2] = numbers[1]\n",
    "            # idx2 = 0\n",
    "            if numbers[0] < current:\n",
    "                numbers[1] = current\n",
    "            else:\n",
    "                numbers[1] = numbers[0]\n",
    "                # idx2 = -1\n",
    "                numbers[0] = current\n",
    "    else:\n",
    "        numbers[1] = numbers[0]\n",
    "        # idx2 = -1\n",
    "        numbers[0] = current\n",
    "        # idx = 2 \n",
    "        current = numbers[2]\n",
    "        # idx2 = 1\n",
    "        if numbers[1] < current:\n",
    "            numbers[2] = current\n",
    "        else:\n",
    "            numbers[2] = numbers[1]\n",
    "            # idx2 = 0\n",
    "            if numbers[0] < current:\n",
    "                numbers[1] = current\n",
    "            else:\n",
    "                numbers[1] = numbers[0]\n",
    "                # idx2 = -1\n",
    "                numbers[0] = current"
   ]
  },
  {
   "cell_type": "markdown",
   "metadata": {},
   "source": [
    "Remove comments."
   ]
  },
  {
   "cell_type": "code",
   "execution_count": null,
   "metadata": {},
   "outputs": [],
   "source": [
    "def insertion_sort_len3(numbers:list[int]):\n",
    "    current = numbers[1]\n",
    "    if numbers[0] < current:\n",
    "        numbers[1] = current\n",
    "        current = numbers[2]\n",
    "        if numbers[1] < current:\n",
    "            numbers[2] = current\n",
    "        else:\n",
    "            numbers[2] = numbers[1]\n",
    "            if numbers[0] < current:\n",
    "                numbers[1] = current\n",
    "            else:\n",
    "                numbers[1] = numbers[0]\n",
    "                numbers[0] = current\n",
    "    else:\n",
    "        numbers[1] = numbers[0]\n",
    "        numbers[0] = current\n",
    "        current = numbers[2]\n",
    "        if numbers[1] < current:\n",
    "            numbers[2] = current\n",
    "        else:\n",
    "            numbers[2] = numbers[1]\n",
    "            if numbers[0] < current:\n",
    "                numbers[1] = current\n",
    "            else:\n",
    "                numbers[1] = numbers[0]\n",
    "                numbers[0] = current"
   ]
  },
  {
   "cell_type": "markdown",
   "metadata": {},
   "source": [
    "Optimize out unnecessary assignments."
   ]
  },
  {
   "cell_type": "code",
   "execution_count": null,
   "metadata": {},
   "outputs": [],
   "source": [
    "def insertion_sort_len3(numbers:list[int]):    \n",
    "    if numbers[0] < numbers[1]:\n",
    "        if numbers[1] < numbers[2]:\n",
    "            pass\n",
    "        else:\n",
    "            current = numbers[2]\n",
    "            numbers[2] = numbers[1]\n",
    "            if numbers[0] < current:\n",
    "                numbers[1] = current\n",
    "            else:\n",
    "                numbers[1] = numbers[0]\n",
    "                numbers[0] = current\n",
    "    else:\n",
    "        numbers[0], numbers[1] = numbers[1], numbers[0]        \n",
    "        if numbers[1] < numbers[2]:\n",
    "            pass\n",
    "        else:\n",
    "            current = numbers[2]\n",
    "            numbers[2] = numbers[1]\n",
    "            if numbers[0] < current:\n",
    "                numbers[1] = current\n",
    "            else:\n",
    "                numbers[1] = numbers[0]\n",
    "                numbers[0] = current"
   ]
  },
  {
   "cell_type": "markdown",
   "metadata": {},
   "source": [
    "This part:\n",
    "```python\n",
    "current = numbers[2]\n",
    "numbers[2] = numbers[1]\n",
    "if numbers[0] < current:\n",
    "    numbers[1] = current\n",
    "else:\n",
    "    numbers[1] = numbers[0]\n",
    "    numbers[0] = current\n",
    "```\n",
    "just means to swap 1 and 2 in the `if` case.\n",
    "\n",
    "In the `else` case 0 -> 1 -> 2 is \"round swapped\". \n",
    "\n",
    "So"
   ]
  },
  {
   "cell_type": "code",
   "execution_count": null,
   "metadata": {},
   "outputs": [],
   "source": [
    "def insertion_sort_len3(numbers:list[int]):    \n",
    "    if numbers[0] < numbers[1]:\n",
    "        if numbers[1] < numbers[2]:\n",
    "            pass\n",
    "        else:\n",
    "            if numbers[0] < numbers[2]:\n",
    "                numbers[1], numbers[2] = numbers[2], numbers[1]\n",
    "            else:\n",
    "                numbers[0], numbers[1], numbers[2] = numbers[2], numbers[0], numbers[1] \n",
    "    else:\n",
    "        numbers[0], numbers[1] = numbers[1], numbers[0]        \n",
    "        if numbers[1] < numbers[2]:\n",
    "            pass\n",
    "        else:\n",
    "            if numbers[0] < numbers[2]:\n",
    "                numbers[1], numbers[2] = numbers[2], numbers[1]\n",
    "            else:\n",
    "                numbers[0], numbers[1], numbers[2] = numbers[2], numbers[0], numbers[1] "
   ]
  },
  {
   "cell_type": "markdown",
   "metadata": {},
   "source": [
    "Simplyfy by merging the swaps in the `else` branch:"
   ]
  },
  {
   "cell_type": "code",
   "execution_count": null,
   "metadata": {},
   "outputs": [],
   "source": [
    "def insertion_sort_len3(numbers:list[int]):    \n",
    "    if numbers[0] < numbers[1]:\n",
    "        if numbers[1] < numbers[2]:\n",
    "            pass\n",
    "        else:\n",
    "            if numbers[0] < numbers[2]:\n",
    "                numbers[1], numbers[2] = numbers[2], numbers[1]\n",
    "            else:\n",
    "                numbers[0], numbers[1], numbers[2] = numbers[2], numbers[0], numbers[1] \n",
    "    else:        \n",
    "        if numbers[0] < numbers[2]:\n",
    "            numbers[0], numbers[1] = numbers[1], numbers[0]\n",
    "        else:\n",
    "            if numbers[1] < numbers[2]:\n",
    "                numbers[0], numbers[1], numbers[2] = numbers[1], numbers[2], numbers[0]\n",
    "            else:\n",
    "                numbers[1], numbers[2] = numbers[2], numbers[1] "
   ]
  },
  {
   "cell_type": "markdown",
   "metadata": {},
   "source": [
    "Much nicer. \n",
    "Considering the values 1,2,3, there are 3! = 6 different orders in which they can be in `l`, lets annotate, where each of them end up."
   ]
  },
  {
   "cell_type": "code",
   "execution_count": null,
   "metadata": {},
   "outputs": [],
   "source": [
    "def insertion_sort_len3(numbers:list[int]):  # [1,2,3] [1,3,2] [2,1,3] [2,3,1] [3,1,2] [3,2,1] \n",
    "    if numbers[0] < numbers[1]: # [1,2,3] [1,3,2] [2,3,1] \n",
    "        if numbers[1] < numbers[2]: # [1,2,3] \n",
    "            pass\n",
    "        else: # [1,3,2] [2,3,1] \n",
    "            if numbers[0] < numbers[2]:  # [1,3,2] \n",
    "                numbers[1], numbers[2] = numbers[2], numbers[1]\n",
    "            else:  # [2,3,1] \n",
    "                numbers[0], numbers[1], numbers[2] = numbers[2], numbers[0], numbers[1] \n",
    "    else: # [2,1,3] [3,1,2] [3,2,1] \n",
    "        if numbers[0] < numbers[2]: # [2,1,3]  \n",
    "            numbers[0], numbers[1] = numbers[1], numbers[0]\n",
    "        else: # [3,1,2] [3,2,1] \n",
    "            if numbers[1] < numbers[2]:  # [3,1,2] \n",
    "                numbers[0], numbers[1], numbers[2] = numbers[1], numbers[2], numbers[0]\n",
    "            else: # [3,2,1]\n",
    "                numbers[0], numbers[2] = numbers[2], numbers[0] "
   ]
  },
  {
   "cell_type": "markdown",
   "metadata": {},
   "source": [
    "A similar function :"
   ]
  },
  {
   "cell_type": "code",
   "execution_count": null,
   "metadata": {},
   "outputs": [],
   "source": [
    "def insertion_sorted_len3(numbers:list[int]):  # [1,2,3] [1,3,2] [2,1,3] [2,3,1] [3,1,2] [3,2,1] \n",
    "    if numbers[0] < numbers[1]: # [1,2,3] [1,3,2] [2,3,1] \n",
    "        if numbers[1] < numbers[2]: # [1,2,3] \n",
    "            return [ numbers[0], numbers[1], numbers[2] ]\n",
    "        else: # [1,3,2] [2,3,1] \n",
    "            if numbers[0] < numbers[2]:  # [1,3,2] \n",
    "                return [ numbers[0], numbers[2], numbers[1] ]\n",
    "            else:  # [2,3,1] \n",
    "                return [ numbers[2], numbers[0], numbers[1] ]\n",
    "    else: # [2,1,3] [3,1,2] [3,2,1] \n",
    "        if numbers[0] < numbers[2]: # [2,1,3]  \n",
    "            return [ numbers[1], numbers[0], numbers[2] ]\n",
    "        else: # [3,1,2] [3,2,1] \n",
    "            if numbers[1] < numbers[2]:  # [3,1,2] \n",
    "                return [ numbers[1], numbers[2], numbers[0] ]\n",
    "            else: # [3,2,1]\n",
    "                return [ numbers[2], numbers[1], numbers[0] ]"
   ]
  }
 ],
 "metadata": {
  "kernelspec": {
   "display_name": "Python 3",
   "language": "python",
   "name": "python3"
  },
  "language_info": {
   "name": "python",
   "version": "3.11.4"
  }
 },
 "nbformat": 4,
 "nbformat_minor": 2
}
